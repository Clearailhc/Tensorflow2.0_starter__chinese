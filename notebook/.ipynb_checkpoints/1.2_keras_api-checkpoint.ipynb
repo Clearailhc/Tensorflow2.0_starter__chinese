{
 "cells": [
  {
   "cell_type": "markdown",
   "metadata": {},
   "source": [
    "# 1.2 keras函数api\n",
    "除了使用序列模型，我们还可以根据自己的需求自定义模型，下面我们以mnist手写字体识别问题为例：\n",
    "## 1.构建简单的网络\n",
    "### 1.1 创建网络"
   ]
  },
  {
   "cell_type": "code",
   "execution_count": 1,
   "metadata": {},
   "outputs": [],
   "source": [
    "import tensorflow as tf\n",
    "import tensorflow.keras as keras\n",
    "from tensorflow.keras import layers"
   ]
  },
  {
   "cell_type": "code",
   "execution_count": 2,
   "metadata": {},
   "outputs": [
    {
     "name": "stdout",
     "output_type": "stream",
     "text": [
      "Model: \"mnist model\"\n",
      "_________________________________________________________________\n",
      "Layer (type)                 Output Shape              Param #   \n",
      "=================================================================\n",
      "img (InputLayer)             [(None, 784)]             0         \n",
      "_________________________________________________________________\n",
      "dense (Dense)                (None, 32)                25120     \n",
      "_________________________________________________________________\n",
      "dense_1 (Dense)              (None, 64)                2112      \n",
      "_________________________________________________________________\n",
      "dense_2 (Dense)              (None, 10)                650       \n",
      "=================================================================\n",
      "Total params: 27,882\n",
      "Trainable params: 27,882\n",
      "Non-trainable params: 0\n",
      "_________________________________________________________________\n"
     ]
    },
    {
     "data": {
      "image/png": "[encoded data removed]",
      "text/plain": [
       "<IPython.core.display.Image object>"
      ]
     },
     "execution_count": 2,
     "metadata": {},
     "output_type": "execute_result"
    }
   ],
   "source": [
    "inputs = tf.keras.Input(shape=(784,), name='img')\n",
    "h1 = layers.Dense(32, activation='relu')(inputs)\n",
    "h2 = layers.Dense(64, activation='relu')(h1)\n",
    "outputs = layers.Dense(10, activation='softmax')(h2)\n",
    "model = tf.keras.Model(inputs=inputs, outputs=outputs, name='mnist model')\n",
    "\n",
    "model.summary()\n",
    "keras.utils.plot_model(model, '../models/minst_model.png')\n",
    "keras.utils.plot_model(model, '../models/minst_info.png', show_shapes='True')"
   ]
  },
  {
   "cell_type": "markdown",
   "metadata": {},
   "source": [
    "### 1.2 验证及测试\n",
    "同样使用test1中mnist数据集进行测试，并对数据进行相同的处理："
   ]
  },
  {
   "cell_type": "code",
   "execution_count": 3,
   "metadata": {},
   "outputs": [
    {
     "name": "stderr",
     "output_type": "stream",
     "text": [
      "WARNING: Logging before flag parsing goes to stderr.\n",
      "W0913 15:19:55.235465 14516 deprecation.py:323] From D:\\Anaconda3\\envs\\tf2\\lib\\site-packages\\tensorflow\\python\\ops\\math_grad.py:1250: add_dispatch_support.<locals>.wrapper (from tensorflow.python.ops.array_ops) is deprecated and will be removed in a future version.\n",
      "Instructions for updating:\n",
      "Use tf.where in 2.0, which has the same broadcast rule as np.where\n"
     ]
    },
    {
     "name": "stdout",
     "output_type": "stream",
     "text": [
      "Train on 48000 samples, validate on 12000 samples\n",
      "Epoch 1/5\n",
      "48000/48000 [==============================] - 6s 131us/sample - loss: 0.4156 - accuracy: 0.8832 - val_loss: 0.2215 - val_accuracy: 0.9351\n",
      "Epoch 2/5\n",
      "48000/48000 [==============================] - 5s 104us/sample - loss: 0.2120 - accuracy: 0.9375 - val_loss: 0.1818 - val_accuracy: 0.9470\n",
      "Epoch 3/5\n",
      "48000/48000 [==============================] - 5s 106us/sample - loss: 0.1691 - accuracy: 0.9505 - val_loss: 0.1666 - val_accuracy: 0.9504\n",
      "Epoch 4/5\n",
      "48000/48000 [==============================] - 5s 105us/sample - loss: 0.1430 - accuracy: 0.9585 - val_loss: 0.1436 - val_accuracy: 0.9570\n",
      "Epoch 5/5\n",
      "48000/48000 [==============================] - 5s 110us/sample - loss: 0.1256 - accuracy: 0.9630 - val_loss: 0.1346 - val_accuracy: 0.9601\n",
      "test loss: 0.13311033908994868\n",
      "test acc: 0.9624\n"
     ]
    }
   ],
   "source": [
    "(x_train, y_train), (x_test, y_test) = keras.datasets.mnist.load_data()\n",
    "x_train = x_train.reshape(60000, 784).astype('float32') /255\n",
    "x_test = x_test.reshape(10000, 784).astype('float32') /255\n",
    "model.compile(optimizer=keras.optimizers.RMSprop(),\n",
    "             loss='sparse_categorical_crossentropy', # 直接填api，后面会报错\n",
    "             metrics=['accuracy'])\n",
    "history = model.fit(x_train, y_train, batch_size=64, epochs=5, validation_split=0.2)\n",
    "test_scores = model.evaluate(x_test, y_test, verbose=0)\n",
    "print('test loss:', test_scores[0])\n",
    "print('test acc:', test_scores[1])"
   ]
  },
  {
   "cell_type": "markdown",
   "metadata": {},
   "source": [
    "### 1.3 模型保存和序列化"
   ]
  },
  {
   "cell_type": "code",
   "execution_count": 4,
   "metadata": {},
   "outputs": [],
   "source": [
    "model.save('../models/model_save.h5')\n",
    "del model\n",
    "model = keras.models.load_model('../models/model_save.h5')"
   ]
  },
  {
   "cell_type": "markdown",
   "metadata": {},
   "source": [
    "## 2 使用共享网络创建多个模型"
   ]
  },
  {
   "cell_type": "markdown",
   "metadata": {},
   "source": [
    "在函数API中，可以通过指定网络层的输入和输出来构建模型，这意味着可以和变量一样迭代更新网络层来生成多个模型，下面是一个编码器和解码器的例子："
   ]
  },
  {
   "cell_type": "code",
   "execution_count": 5,
   "metadata": {},
   "outputs": [
    {
     "name": "stdout",
     "output_type": "stream",
     "text": [
      "Model: \"encoder\"\n",
      "_________________________________________________________________\n",
      "Layer (type)                 Output Shape              Param #   \n",
      "=================================================================\n",
      "image (InputLayer)           [(None, 28, 28, 1)]       0         \n",
      "_________________________________________________________________\n",
      "conv2d (Conv2D)              (None, 26, 26, 16)        160       \n",
      "_________________________________________________________________\n",
      "conv2d_1 (Conv2D)            (None, 24, 24, 32)        4640      \n",
      "_________________________________________________________________\n",
      "max_pooling2d (MaxPooling2D) (None, 8, 8, 32)          0         \n",
      "_________________________________________________________________\n",
      "conv2d_2 (Conv2D)            (None, 6, 6, 32)          9248      \n",
      "_________________________________________________________________\n",
      "conv2d_3 (Conv2D)            (None, 4, 4, 16)          4624      \n",
      "_________________________________________________________________\n",
      "global_max_pooling2d (Global (None, 16)                0         \n",
      "=================================================================\n",
      "Total params: 18,672\n",
      "Trainable params: 18,672\n",
      "Non-trainable params: 0\n",
      "_________________________________________________________________\n"
     ]
    }
   ],
   "source": [
    "encode_input = keras.Input(shape=(28,28,1),name='image') # 输入28*28的灰度图像\n",
    "h1 = layers.Conv2D(16, 3, activation='relu')(encode_input)# 2维的卷积层，fliter数目为16，window_size为3\n",
    "h1 = layers.Conv2D(32, 3, activation='relu')(h1)\n",
    "h1 = layers.MaxPool2D(3)(h1)\n",
    "h1 = layers.Conv2D(32, 3, activation='relu')(h1)\n",
    "h1 = layers.Conv2D(16, 3, activation='relu')(h1)\n",
    "encode_output = layers.GlobalMaxPool2D()(h1)\n",
    "encode_model = keras.Model(inputs=encode_input, outputs=encode_output, name=\"encoder\")\n",
    "encode_model.summary()"
   ]
  },
  {
   "cell_type": "code",
   "execution_count": 6,
   "metadata": {},
   "outputs": [
    {
     "name": "stdout",
     "output_type": "stream",
     "text": [
      "Model: \"decoder\"\n",
      "_________________________________________________________________\n",
      "Layer (type)                 Output Shape              Param #   \n",
      "=================================================================\n",
      "encoded_img (InputLayer)     [(None, 16)]              0         \n",
      "_________________________________________________________________\n",
      "reshape (Reshape)            (None, 4, 4, 1)           0         \n",
      "_________________________________________________________________\n",
      "conv2d_transpose (Conv2DTran (None, 6, 6, 16)          160       \n",
      "_________________________________________________________________\n",
      "conv2d_transpose_1 (Conv2DTr (None, 8, 8, 32)          4640      \n",
      "_________________________________________________________________\n",
      "up_sampling2d (UpSampling2D) (None, 24, 24, 32)        0         \n",
      "_________________________________________________________________\n",
      "conv2d_transpose_2 (Conv2DTr (None, 26, 26, 16)        4624      \n",
      "_________________________________________________________________\n",
      "conv2d_transpose_3 (Conv2DTr (None, 28, 28, 1)         145       \n",
      "=================================================================\n",
      "Total params: 9,569\n",
      "Trainable params: 9,569\n",
      "Non-trainable params: 0\n",
      "_________________________________________________________________\n"
     ]
    }
   ],
   "source": [
    "decode_input = keras.Input(shape=(16,), name='encoded_img')\n",
    "h2 = layers.Reshape((4, 4, 1))(decode_input)\n",
    "h2 = layers.Conv2DTranspose(16, 3, activation='relu')(h2) # 反卷积\n",
    "h2 = layers.Conv2DTranspose(32, 3, activation='relu')(h2)\n",
    "h2 = layers.UpSampling2D(3)(h2) # 超采样\n",
    "h2 = layers.Conv2DTranspose(16, 3, activation='relu')(h2)\n",
    "decode_output = layers.Conv2DTranspose(1, 3, activation='relu')(h2)\n",
    "decode_model = keras.Model(inputs=decode_input, outputs=decode_output, name='decoder')\n",
    "decode_model.summary()"
   ]
  },
  {
   "cell_type": "markdown",
   "metadata": {},
   "source": [
    "也可以将整个模型作为一层网络使用："
   ]
  },
  {
   "cell_type": "code",
   "execution_count": 7,
   "metadata": {},
   "outputs": [
    {
     "name": "stdout",
     "output_type": "stream",
     "text": [
      "Model: \"autoencoder\"\n",
      "_________________________________________________________________\n",
      "Layer (type)                 Output Shape              Param #   \n",
      "=================================================================\n",
      "img (InputLayer)             [(None, 28, 28, 1)]       0         \n",
      "_________________________________________________________________\n",
      "encoder (Model)              (None, 16)                18672     \n",
      "_________________________________________________________________\n",
      "decoder (Model)              (None, 28, 28, 1)         9569      \n",
      "=================================================================\n",
      "Total params: 28,241\n",
      "Trainable params: 28,241\n",
      "Non-trainable params: 0\n",
      "_________________________________________________________________\n"
     ]
    }
   ],
   "source": [
    "autoencoder_input = keras.Input(shape=(28, 28, 1), name='img')\n",
    "h3 = encode_model(autoencoder_input)\n",
    "autoencoder_output = decode_model(h3)\n",
    "autoencoder = keras.Model(inputs=autoencoder_input, outputs=autoencoder_output, name='autoencoder')\n",
    "autoencoder.summary()"
   ]
  },
  {
   "cell_type": "markdown",
   "metadata": {},
   "source": [
    "## 3. 构建多输入与多输出网络\n",
    "建一个根据文档内容、标签和标题，预测文档优先级和执行部门的网络。"
   ]
  },
  {
   "cell_type": "code",
   "execution_count": 8,
   "metadata": {},
   "outputs": [
    {
     "name": "stdout",
     "output_type": "stream",
     "text": [
      "Model: \"model\"\n",
      "__________________________________________________________________________________________________\n",
      "Layer (type)                    Output Shape         Param #     Connected to                     \n",
      "==================================================================================================\n",
      "title (InputLayer)              [(None, None)]       0                                            \n",
      "__________________________________________________________________________________________________\n",
      "body (InputLayer)               [(None, None)]       0                                            \n",
      "__________________________________________________________________________________________________\n",
      "embedding_1 (Embedding)         (None, None, 64)     128000      title[0][0]                      \n",
      "__________________________________________________________________________________________________\n",
      "embedding (Embedding)           (None, None, 64)     128000      body[0][0]                       \n",
      "__________________________________________________________________________________________________\n",
      "lstm_1 (LSTM)                   (None, 128)          98816       embedding_1[0][0]                \n",
      "__________________________________________________________________________________________________\n",
      "lstm (LSTM)                     (None, 32)           12416       embedding[0][0]                  \n",
      "__________________________________________________________________________________________________\n",
      "tag (InputLayer)                [(None, 12)]         0                                            \n",
      "__________________________________________________________________________________________________\n",
      "concatenate (Concatenate)       (None, 172)          0           lstm_1[0][0]                     \n",
      "                                                                 lstm[0][0]                       \n",
      "                                                                 tag[0][0]                        \n",
      "__________________________________________________________________________________________________\n",
      "priority (Dense)                (None, 1)            173         concatenate[0][0]                \n",
      "__________________________________________________________________________________________________\n",
      "department (Dense)              (None, 4)            692         concatenate[0][0]                \n",
      "==================================================================================================\n",
      "Total params: 368,097\n",
      "Trainable params: 368,097\n",
      "Non-trainable params: 0\n",
      "__________________________________________________________________________________________________\n",
      "Train on 1280 samples\n",
      "Epoch 1/5\n",
      "1280/1280 [==============================] - 5s 4ms/sample - loss: 1.2577 - priority_loss: 0.6982 - department_loss: 2.7977\n",
      "Epoch 2/5\n",
      "1280/1280 [==============================] - 1s 1ms/sample - loss: 1.2218 - priority_loss: 0.6708 - department_loss: 2.7550\n",
      "Epoch 3/5\n",
      "1280/1280 [==============================] - 1s 1ms/sample - loss: 1.1366 - priority_loss: 0.5950 - department_loss: 2.7077\n",
      "Epoch 4/5\n",
      "1280/1280 [==============================] - 1s 1ms/sample - loss: 1.0671 - priority_loss: 0.5396 - department_loss: 2.6373\n",
      "Epoch 5/5\n",
      "1280/1280 [==============================] - 1s 1ms/sample - loss: 1.0305 - priority_loss: 0.5200 - department_loss: 2.5525\n"
     ]
    }
   ],
   "source": [
    "# 超参数\n",
    "num_words = 2000\n",
    "num_tags = 12\n",
    "num_departments = 4\n",
    "\n",
    "# 输入\n",
    "body_input = keras.Input(shape=(None, ), name='body')\n",
    "title_input = keras.Input(shape=(None, ), name='title')\n",
    "tag_input = keras.Input(shape=(num_tags, ), name='tag')\n",
    "\n",
    "# 嵌入层\n",
    "body_feat = layers.Embedding(num_words, 64)(body_input)\n",
    "title_feat = layers.Embedding(num_words, 64)(title_input)\n",
    "\n",
    "# 特征提取层\n",
    "body_feat = layers.LSTM(32)(body_feat)\n",
    "title_feat = layers.LSTM(128)(title_feat)\n",
    "features = layers.concatenate([title_feat, body_feat, tag_input])\n",
    "\n",
    "# 分类层\n",
    "priority_pred = layers.Dense(1, activation='sigmoid', name='priority')(features)\n",
    "department_pred = layers.Dense(num_departments, activation='softmax', name='department')(features)\n",
    "\n",
    "# 构建模型\n",
    "model = keras.Model(inputs=[body_input, title_input, tag_input],\n",
    "                   outputs=[priority_pred, department_pred])\n",
    "model.summary()\n",
    "keras.utils.plot_model(model, 'multi_model.png', show_shapes=True)\n",
    "model.compile(optimizer=keras.optimizers.RMSprop(1e-3),\n",
    "             loss={'priority': 'binary_crossentropy',\n",
    "                  'department': 'categorical_crossentropy'},\n",
    "             loss_weights=[1.,0.2])\n",
    "\n",
    "# 构建数据\n",
    "import numpy as np\n",
    "title_data = np.random.randint(num_words, size=(1280, 10))\n",
    "body_data = np.random.randint(num_words, size=(1280, 100))\n",
    "tag_data = np.random.randint(2, size=(1280,num_tags)).astype('float32')\n",
    "\n",
    "#构建标签\n",
    "priority_label = np.random.random(size=(1280, 1))\n",
    "department_label = np.random.randint(2, size=(1280, num_departments))\n",
    "\n",
    "#训练\n",
    "history = model.fit(\n",
    "    {'title': title_data, 'body':body_data, 'tag': tag_data},\n",
    "    {'priority': priority_label, 'department':department_label},\n",
    "    batch_size=32, epochs=5)"
   ]
  },
  {
   "cell_type": "markdown",
   "metadata": {},
   "source": [
    "可以看到，多输入采用的是特征提取后的拼接；而多输出是在最后一层网络中分别构建对应的预测规则，并在模型搭建的时候对输出做拼接。"
   ]
  },
  {
   "cell_type": "markdown",
   "metadata": {},
   "source": [
    "## 4. 共享网络层\n",
    "将一个网络定义之后可以使用类似函数的形式进行调用，参数是该网络的输入。"
   ]
  },
  {
   "cell_type": "code",
   "execution_count": 9,
   "metadata": {},
   "outputs": [],
   "source": [
    "share_embedding = layers.Embedding(100, 64)\n",
    "\n",
    "input1 = keras.Input(shape=(None, ), dtype='int32')\n",
    "input2 = keras.Input(shape=(None, ), dtype='int32')\n",
    "\n",
    "feat1 = share_embedding(input1)\n",
    "feat2 = share_embedding(input2)"
   ]
  },
  {
   "cell_type": "markdown",
   "metadata": {},
   "source": [
    "## 5. 已有模型复用\n",
    "可以通过调用`tensorflow.keras.applicaions`中预定义的网络模型，使用该模型的某些层进行复用。"
   ]
  },
  {
   "cell_type": "code",
   "execution_count": null,
   "metadata": {},
   "outputs": [
    {
     "name": "stdout",
     "output_type": "stream",
     "text": [
      "Downloading data from https://github.com/fchollet/deep-learning-models/releases/download/v0.1/vgg16_weights_tf_dim_ordering_tf_kernels.h5\n",
      "   188416/553467096 [..............................] - ETA: 18:47:21"
     ]
    }
   ],
   "source": [
    "from tensorflow.keras.applications import VGG16\n",
    "vgg16=VGG16()\n",
    "\n",
    "feature_list = [layer.output for layer in vgg16.layers]\n",
    "feat_ext_model = keras.Model(inputs=vgg16.input, outputs=feature_list)\n",
    "\n",
    "img = np.random.random((1, 224, 224, 3).astype('float32'))\n",
    "ext_features = feat_ext_model(img)"
   ]
  }
 ],
 "metadata": {
  "kernelspec": {
   "display_name": "Python [conda env:tf2]",
   "language": "python",
   "name": "conda-env-tf2-py"
  },
  "language_info": {
   "codemirror_mode": {
    "name": "ipython",
    "version": 3
   },
   "file_extension": ".py",
   "mimetype": "text/x-python",
   "name": "python",
   "nbconvert_exporter": "python",
   "pygments_lexer": "ipython3",
   "version": "3.7.4"
  }
 },
 "nbformat": 4,
 "nbformat_minor": 4
}
