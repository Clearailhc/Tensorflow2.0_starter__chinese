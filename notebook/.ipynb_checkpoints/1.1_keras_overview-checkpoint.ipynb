{
 "cells": [
  {
   "cell_type": "markdown",
   "metadata": {},
   "source": [
    "## 1. 导入tf和keras\n",
    "首先检验一下安装的成果吧，导入tensorflow并查看版本（注意kernel的选择）"
   ]
  },
  {
   "cell_type": "code",
   "execution_count": 1,
   "metadata": {},
   "outputs": [
    {
     "name": "stdout",
     "output_type": "stream",
     "text": [
      "2.0.0-beta1\n",
      "2.2.4-tf\n"
     ]
    }
   ],
   "source": [
    "import tensorflow as tf\n",
    "import tensorflow.keras\n",
    "from tensorflow.keras import layers\n",
    "print(tf.__version__)\n",
    "print(tf.keras.__version__)"
   ]
  },
  {
   "cell_type": "markdown",
   "metadata": {},
   "source": [
    "如果没有报错的话，那恭喜大家成功迈出了第一步啦~\n",
    "tensorflow2中集成了keras，其中keras.layers中囊括了常见的神经网络结构，那么下面我们就开始使用tf.keras进行简单模型的构建吧。\n",
    "## 2. 构建简单模型\n",
    "### 2.1 模型堆叠\n",
    "首先构建一个序列堆叠的网络模型，使用`tf.keras.Sequential`结构初始化`model`，并且通过`model.add`一层一层堆叠，堆叠的对象是在keras.layers类中预先定义的全连接层（Dense）："
   ]
  },
  {
   "cell_type": "code",
   "execution_count": 2,
   "metadata": {},
   "outputs": [],
   "source": [
    "model = tf.keras.Sequential()\n",
    "model.add(layers.Dense(32, activation='relu'))\n",
    "model.add(layers.Dense(64, activation='relu'))\n",
    "model.add(layers.Dense(10, activation='softmax'))"
   ]
  },
  {
   "cell_type": "markdown",
   "metadata": {},
   "source": [
    "有经验的同学应该可以发现这是一个三层的全连接神经网络，前两层的激活函数为`relu`，最后一层使用了一个10维的`softmax`进行多分类的归一化。使用`tf.keras.Sequential`序列模型好像搭积木一样，不断用`model.add`拼上去，就构建完成了我们的第一个网络结构。\n",
    "### 2.2 网络配置\n",
    "大家一定跃跃欲试了吧，不过在测试咱们的网络之前，还需要了解一下`tf.keras.layers`中的一系列参数："
   ]
  }
 ],
 "metadata": {
  "kernelspec": {
   "display_name": "Python [conda env:tf2]",
   "language": "python",
   "name": "conda-env-tf2-py"
  },
  "language_info": {
   "codemirror_mode": {
    "name": "ipython",
    "version": 3
   },
   "file_extension": ".py",
   "mimetype": "text/x-python",
   "name": "python",
   "nbconvert_exporter": "python",
   "pygments_lexer": "ipython3",
   "version": "3.7.4"
  }
 },
 "nbformat": 4,
 "nbformat_minor": 4
}
